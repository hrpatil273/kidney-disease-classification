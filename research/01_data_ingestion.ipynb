{
 "cells": [
  {
   "cell_type": "code",
   "execution_count": 1,
   "id": "initial_id",
   "metadata": {
    "collapsed": true,
    "ExecuteTime": {
     "end_time": "2024-04-09T13:43:31.052410Z",
     "start_time": "2024-04-09T13:43:31.045356Z"
    }
   },
   "outputs": [],
   "source": [
    "import os"
   ]
  },
  {
   "cell_type": "code",
   "outputs": [
    {
     "data": {
      "text/plain": "'H:\\\\PU\\\\PRJ\\\\kidney-disease-classification\\\\kidney-disease-classification\\\\research'"
     },
     "execution_count": 2,
     "metadata": {},
     "output_type": "execute_result"
    }
   ],
   "source": [
    "%pwd"
   ],
   "metadata": {
    "collapsed": false,
    "ExecuteTime": {
     "end_time": "2024-04-09T13:43:31.738578Z",
     "start_time": "2024-04-09T13:43:31.731054Z"
    }
   },
   "id": "8a867f5fa70e18a",
   "execution_count": 2
  },
  {
   "cell_type": "code",
   "outputs": [],
   "source": [
    "os.chdir(\"../\")"
   ],
   "metadata": {
    "collapsed": false,
    "ExecuteTime": {
     "end_time": "2024-04-09T13:43:31.830105Z",
     "start_time": "2024-04-09T13:43:31.825791Z"
    }
   },
   "id": "ef1034adcdef9ab1",
   "execution_count": 3
  },
  {
   "cell_type": "code",
   "outputs": [
    {
     "data": {
      "text/plain": "'H:\\\\PU\\\\PRJ\\\\kidney-disease-classification\\\\kidney-disease-classification'"
     },
     "execution_count": 4,
     "metadata": {},
     "output_type": "execute_result"
    }
   ],
   "source": [
    "%pwd"
   ],
   "metadata": {
    "collapsed": false,
    "ExecuteTime": {
     "end_time": "2024-04-09T13:43:32.159176Z",
     "start_time": "2024-04-09T13:43:32.153176Z"
    }
   },
   "id": "f836ed335cf600d",
   "execution_count": 4
  },
  {
   "cell_type": "code",
   "outputs": [],
   "source": [
    "from dataclasses import dataclass\n",
    "from pathlib import Path"
   ],
   "metadata": {
    "collapsed": false,
    "ExecuteTime": {
     "end_time": "2024-04-09T13:43:32.534280Z",
     "start_time": "2024-04-09T13:43:32.531206Z"
    }
   },
   "id": "9385627891f67338",
   "execution_count": 5
  },
  {
   "cell_type": "code",
   "outputs": [],
   "source": [
    "@dataclass(frozen=True)\n",
    "class DataIngestionConfig:\n",
    "    root_dir: Path\n",
    "    source_URL : str\n",
    "    local_data_files : Path\n",
    "    unzip_dir : Path"
   ],
   "metadata": {
    "collapsed": false,
    "ExecuteTime": {
     "end_time": "2024-04-09T13:43:32.805104Z",
     "start_time": "2024-04-09T13:43:32.799476Z"
    }
   },
   "id": "7f7aa357c38a88cf",
   "execution_count": 6
  },
  {
   "cell_type": "code",
   "outputs": [],
   "source": [
    "from classifier.constants import *\n",
    "from classifier.utils.common import read_yaml, create_directories"
   ],
   "metadata": {
    "collapsed": false,
    "ExecuteTime": {
     "end_time": "2024-04-09T13:43:33.537874Z",
     "start_time": "2024-04-09T13:43:33.064121Z"
    }
   },
   "id": "1f923debe8436ee5",
   "execution_count": 7
  },
  {
   "cell_type": "code",
   "outputs": [],
   "source": [
    "class ConfigurationManager:\n",
    "    def __init__(self, config_filepath = CONFIG_FILE_PATH, params_filepath = PARAMS_FILE_PATH):\n",
    "        self.config = read_yaml(config_filepath)\n",
    "        self.params = read_yaml(params_filepath)\n",
    "        \n",
    "        create_directories([self.config.artifacts_root])\n",
    "        \n",
    "    def get_data_ingestion_config(self) -> DataIngestionConfig:\n",
    "        config = self.config.data_ingestion\n",
    "        create_directories([config.root_dir])\n",
    "        \n",
    "        data_ingestion_config = DataIngestionConfig(\n",
    "            root_dir = config.root_dir,\n",
    "            source_URL = config.source_URL,\n",
    "            local_data_files = config.local_data_file,\n",
    "            unzip_dir = config.unzip_dir\n",
    "        )\n",
    "        \n",
    "        return data_ingestion_config"
   ],
   "metadata": {
    "collapsed": false,
    "ExecuteTime": {
     "end_time": "2024-04-09T13:47:43.668523Z",
     "start_time": "2024-04-09T13:47:43.663145Z"
    }
   },
   "id": "56e4ec7138415046",
   "execution_count": 14
  },
  {
   "cell_type": "code",
   "outputs": [],
   "source": [
    "import os\n",
    "import zipfile\n",
    "import gdown\n",
    "from classifier import logger\n",
    "from classifier.utils.common import get_size"
   ],
   "metadata": {
    "collapsed": false,
    "ExecuteTime": {
     "end_time": "2024-04-09T13:43:53.054567Z",
     "start_time": "2024-04-09T13:43:52.766894Z"
    }
   },
   "id": "be6dd1c2b9464c21",
   "execution_count": 9
  },
  {
   "cell_type": "code",
   "outputs": [],
   "source": [
    "class DataIngestion:\n",
    "    def __init__(self, config: DataIngestionConfig):\n",
    "        self.config = config\n",
    "        \n",
    "    def download_file(self) -> str:\n",
    "        \"\"\"\n",
    "        Fetch data from the Source URL\n",
    "        :return: \n",
    "        \"\"\"\n",
    "        try:\n",
    "            dataset_url = self.config.source_URL\n",
    "            zip_download_dir = self.config.local_data_files\n",
    "            os.makedirs(\"artifacts/data_ingestion\", exist_ok=True)\n",
    "            logger.info(f\"Downloading data from {dataset_url} to {zip_download_dir}\")\n",
    "            \n",
    "            file_name = dataset_url.split(\"/\")[-2]\n",
    "            prefix_url = \"https://drive.google.com/uc?/export=download&id={}\".format(file_name)\n",
    "            gdown.download(prefix_url, zip_download_dir)\n",
    "            logger.info(f\"Extracting data from {dataset_url} to {zip_download_dir}\")\n",
    "        except Exception as e:\n",
    "            logger.error(f\"{e}\")\n",
    "            raise e\n",
    "    \n",
    "    def extract_zip_files(self):\n",
    "        \"\"\"\n",
    "        Extract the zip files in the artifacts directory\n",
    "        :param: zip_file_path: path of the zip file\n",
    "        :return: None\n",
    "        \"\"\"\n",
    "        unzip_path = self.config.unzip_dir\n",
    "        os.makedirs(unzip_path, exist_ok=True)\n",
    "        with zipfile.ZipFile(self.config.local_data_files, \"r\") as zip_ref:\n",
    "            zip_ref.extractall(unzip_path)\n",
    "            logger.info(f\"File unzipped at {unzip_path}\")"
   ],
   "metadata": {
    "collapsed": false,
    "ExecuteTime": {
     "end_time": "2024-04-09T13:43:53.163508Z",
     "start_time": "2024-04-09T13:43:53.156065Z"
    }
   },
   "id": "15d142ec99fc1290",
   "execution_count": 10
  },
  {
   "cell_type": "code",
   "outputs": [
    {
     "name": "stdout",
     "output_type": "stream",
     "text": [
      "[2024-04-09 09:47:47,547 : INFO : common : Loaded config from config\\config.yaml successfully]\n",
      "[2024-04-09 09:47:47,549 : INFO : common : Loaded config from params.yaml successfully]\n",
      "[2024-04-09 09:47:47,550 : INFO : common : Created directory at artifacts]\n",
      "[2024-04-09 09:47:47,551 : INFO : 3635039260 : Configuration loading completed]\n",
      "[2024-04-09 09:47:47,552 : INFO : common : Created directory at artifacts/data_ingestion]\n",
      "[2024-04-09 09:47:47,553 : INFO : 2318707573 : Downloading data from https://drive.google.com/file/d/1vlhZ5c7abUKF8xXERIw6m9Te8fW7ohw3/view?usp=sharing to artifacts/data_ingestion/data.zip]\n"
     ]
    },
    {
     "name": "stderr",
     "output_type": "stream",
     "text": [
      "Downloading...\n",
      "From (original): https://drive.google.com/uc?/export=download&id=1vlhZ5c7abUKF8xXERIw6m9Te8fW7ohw3\n",
      "From (redirected): https://drive.google.com/uc?%2Fexport=download&id=1vlhZ5c7abUKF8xXERIw6m9Te8fW7ohw3&confirm=t&uuid=07f9d72b-9b35-4ed7-81df-326fa4f25c52\n",
      "To: H:\\PU\\PRJ\\kidney-disease-classification\\kidney-disease-classification\\artifacts\\data_ingestion\\data.zip\n",
      "100%|██████████| 57.7M/57.7M [00:18<00:00, 3.07MB/s]"
     ]
    },
    {
     "name": "stdout",
     "output_type": "stream",
     "text": [
      "[2024-04-09 09:48:07,818 : INFO : 2318707573 : Extracting data from https://drive.google.com/file/d/1vlhZ5c7abUKF8xXERIw6m9Te8fW7ohw3/view?usp=sharing to artifacts/data_ingestion/data.zip]\n"
     ]
    },
    {
     "name": "stderr",
     "output_type": "stream",
     "text": [
      "\n"
     ]
    },
    {
     "name": "stdout",
     "output_type": "stream",
     "text": [
      "[2024-04-09 09:48:08,415 : INFO : 2318707573 : File unzipped at artifacts/data_ingestion]\n"
     ]
    }
   ],
   "source": [
    "try:\n",
    "    config = ConfigurationManager()\n",
    "    logger.info(f\"Configuration loading completed\")\n",
    "    data_ingestion_config = config.get_data_ingestion_config()\n",
    "    data_ingestion = DataIngestion(config = data_ingestion_config)\n",
    "    data_ingestion.download_file()\n",
    "    data_ingestion.extract_zip_files()\n",
    "except Exception as e:\n",
    "    raise e"
   ],
   "metadata": {
    "collapsed": false,
    "ExecuteTime": {
     "end_time": "2024-04-09T13:48:08.418588Z",
     "start_time": "2024-04-09T13:47:47.543517Z"
    }
   },
   "id": "9bbd5f73f2382efe",
   "execution_count": 15
  },
  {
   "cell_type": "code",
   "outputs": [],
   "source": [],
   "metadata": {
    "collapsed": false
   },
   "id": "96ed12c3859c3dc0"
  }
 ],
 "metadata": {
  "kernelspec": {
   "display_name": "Python 3",
   "language": "python",
   "name": "python3"
  },
  "language_info": {
   "codemirror_mode": {
    "name": "ipython",
    "version": 2
   },
   "file_extension": ".py",
   "mimetype": "text/x-python",
   "name": "python",
   "nbconvert_exporter": "python",
   "pygments_lexer": "ipython2",
   "version": "2.7.6"
  }
 },
 "nbformat": 4,
 "nbformat_minor": 5
}
